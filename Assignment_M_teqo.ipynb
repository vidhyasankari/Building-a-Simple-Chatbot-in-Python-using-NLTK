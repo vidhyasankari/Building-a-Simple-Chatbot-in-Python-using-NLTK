{
  "nbformat": 4,
  "nbformat_minor": 0,
  "metadata": {
    "colab": {
      "name": "Assignment_M_teqo.ipynb",
      "provenance": [],
      "collapsed_sections": [
        "QVoZ4qnBwMAq",
        "7GCiEEjARtSU"
      ],
      "mount_file_id": "1otygVboy0hKCoNUNtEb-X5TOhvT2xahd",
      "authorship_tag": "ABX9TyPesfGCBXq2bH5Fakk3QmBh",
      "include_colab_link": true
    },
    "kernelspec": {
      "name": "python3",
      "display_name": "Python 3"
    },
    "language_info": {
      "name": "python"
    }
  },
  "cells": [
    {
      "cell_type": "markdown",
      "metadata": {
        "id": "view-in-github",
        "colab_type": "text"
      },
      "source": [
        "<a href=\"https://colab.research.google.com/github/vidhyasankari/Building-a-Simple-Chatbot-in-Python-using-NLTK/blob/master/Assignment_M_teqo.ipynb\" target=\"_parent\"><img src=\"https://colab.research.google.com/assets/colab-badge.svg\" alt=\"Open In Colab\"/></a>"
      ]
    },
    {
      "cell_type": "markdown",
      "metadata": {
        "id": "ZrwxW0KERz-e"
      },
      "source": [
        "# **Q1. Please explain data science project lifecycle.**\n"
      ]
    },
    {
      "cell_type": "markdown",
      "metadata": {
        "id": "QVoZ4qnBwMAq"
      },
      "source": [
        "## **Data science project lifecycle**\n",
        "### Problem defining \n",
        "Any datascience project starts with understanding the business problem/process to proceed further towards solution.\n",
        "\n",
        "We need to first understand the business problem we are trying to solve or the process that we are trying to enhance.\n",
        "Meeting stake holders:\n",
        "\n",
        "\n",
        "*   To understand the problem\n",
        "*   To get an idea about the needed data to solve the problem\n",
        "\n",
        "\n",
        "Understanding the business process starts with meeting the stakeholders, keep analysing the business problem.The datascience team can volunteerly identify potential business problems across domains in a organization .Its vital to have such initiatives, it may end up saving a lot of money or labour hours to the organization.\n",
        "\n",
        "We need to figure out what data is available at hand and what could be sourced from which team,which is more essential, how much data is enough to solve the problem.\n",
        "\n",
        "Most teams would like to see a POC project before funding actual one.So, we need to get a POC done in most cases.Project valuation will be roughly done at this stage.\n",
        "\n",
        "We need to clearly document the project requirements.\n",
        "\n",
        "###Data aquisition\n",
        "\n",
        "With the help of Data architect /Data Engineering teams, we need to get the required document in needed file format.We will use cloud storage / dedicated space as per the project needs.\n",
        "\n",
        "###Data cleaning:\n",
        "It involves preprocessing the data to make it clean.Missing values,date/time formatting,converting to compatible data type,removing punctuations if any,managing duplicated data, dropping unnecessary noise like low variance /no variance features,all needs to be done at this stage.\n",
        "\n",
        "###EDA:\n",
        "   Exploratory data analysis helps to understand the data, start with a baseline model and helps to find right approach to solve the problem.It mainly involves finding answers for the questions that comes to our mind about the data.\n",
        "\n",
        "###Feature Engineering:\n",
        "In this stage we need to find out the relation b/w features, analysing all the features, creating new features using the existing ones, preparing the data ready for modeling like adding dummies, encoding the features, outlier detection and management,analysing the class balance,combining similar classes etc. need to be done at this stage.\n",
        "\n",
        "###Modeling,model evaluation:\n",
        "Seperating training and testing data.\n",
        "training the machine learning models with various relavent algorithms.\n",
        "comparing the model performance using test data,evaluating using relavant metrics,cross validation,\n",
        "hyper parameter tuning, choosing the right model all needs to be done at this stage.\n",
        "\n",
        "###Model deployment:\n",
        "Once we are satisfied with the model performance, model deployment is done.I will be done at test environment first, and testing will be done by the specific set of users, and then needed enhancements can be made then it deployed to the production environment.\n",
        "###Monitoring:\n",
        "Monitoring of the model is essential because things keep changing, and our model also may need updations.Regular monitoring will help us to quickly find needed updates and quick fixes can be done.This way we can ensure maximum utilization of the model.\n",
        "\n",
        "\n"
      ]
    },
    {
      "cell_type": "markdown",
      "metadata": {
        "id": "nPIYxD3ymblL"
      },
      "source": [
        ""
      ]
    },
    {
      "cell_type": "code",
      "metadata": {
        "id": "Ve2M3nXamaIX"
      },
      "source": [
        ""
      ],
      "execution_count": 135,
      "outputs": []
    },
    {
      "cell_type": "markdown",
      "metadata": {
        "id": "7GCiEEjARtSU"
      },
      "source": [
        "# **Q2. Generate a pdf report, where name of pdf report is today’s date which you need to take from system and make below shown chart on one pager pdf. (Note: No need to share your pdf, we’ll run your code to generate pdf at our end for evaluation.)**\n"
      ]
    },
    {
      "cell_type": "code",
      "metadata": {
        "id": "442lACVlwLXW"
      },
      "source": [
        "from datetime import datetime\n",
        "from matplotlib.backends.backend_pdf import PdfPages"
      ],
      "execution_count": 136,
      "outputs": []
    },
    {
      "cell_type": "code",
      "metadata": {
        "id": "3xljpP2Bv7uu"
      },
      "source": [
        "\n",
        "currentDate = datetime.date(datetime.now())\n",
        "with PdfPages(str(currentDate)+'.pdf') as export_pdf: \n",
        "  fig = plt.figure()\n",
        "  ax = fig.add_subplot()\n",
        "  fig.subplots_adjust(top=0.85)\n",
        "  fig.suptitle(currentDate, fontsize=14)\n",
        "  time = np.arange(0, 10, 0.2)\n",
        "  plt.subplot(2, 2, 1)\n",
        "  amplitude_s= np.sin(time)\n",
        "  plt.plot(time, amplitude_s)\n",
        "  plt.title('Sine wave')\n",
        "  plt.xlabel('Time') \n",
        "  plt.ylabel('Amplitude')\n",
        "  plt.axhline(y=0, color='k')\n",
        "  plt.subplot(2, 2, 2)\n",
        "  amplitude_c= np.cos(time)\n",
        "  plt.plot(time, amplitude_c)\n",
        "  plt.title('Cosine wave ' )\n",
        "  plt.xlabel('Time')\n",
        "  plt.ylabel('Amplitude')\n",
        "  plt.axhline(y=0, color='k')\n",
        "  plt.tight_layout()\n",
        "  export_pdf.savefig()\n",
        "  plt.close()"
      ],
      "execution_count": 137,
      "outputs": []
    },
    {
      "cell_type": "markdown",
      "metadata": {
        "id": "pK0VDki7UcWv"
      },
      "source": [
        "# **Q3. For given data set please perform EDA.**\n",
        "\n",
        "---\n",
        "\n"
      ]
    },
    {
      "cell_type": "code",
      "metadata": {
        "colab": {
          "base_uri": "https://localhost:8080/"
        },
        "id": "GbXuN1CAK4Jo",
        "outputId": "d9a8e688-26b3-4b9c-b929-9141a8f34689"
      },
      "source": [
        "import pandas as pd\n",
        "import numpy as np\n",
        "import matplotlib.pyplot as plt\n",
        "import seaborn as sns\n",
        "\n",
        "#Data Loader\n",
        "data=pd.read_csv(\"/content/genres_v2.csv\")"
      ],
      "execution_count": 138,
      "outputs": [
        {
          "output_type": "stream",
          "text": [
            "/usr/local/lib/python3.7/dist-packages/IPython/core/interactiveshell.py:2718: DtypeWarning: Columns (19) have mixed types.Specify dtype option on import or set low_memory=False.\n",
            "  interactivity=interactivity, compiler=compiler, result=result)\n"
          ],
          "name": "stderr"
        }
      ]
    },
    {
      "cell_type": "code",
      "metadata": {
        "colab": {
          "base_uri": "https://localhost:8080/",
          "height": 356
        },
        "id": "6ylQVaHMK8KA",
        "outputId": "a1ff1257-4edc-45b8-f312-9bcfc12ee7ce"
      },
      "source": [
        "#EDA\n",
        "data.head()"
      ],
      "execution_count": 139,
      "outputs": [
        {
          "output_type": "execute_result",
          "data": {
            "text/html": [
              "<div>\n",
              "<style scoped>\n",
              "    .dataframe tbody tr th:only-of-type {\n",
              "        vertical-align: middle;\n",
              "    }\n",
              "\n",
              "    .dataframe tbody tr th {\n",
              "        vertical-align: top;\n",
              "    }\n",
              "\n",
              "    .dataframe thead th {\n",
              "        text-align: right;\n",
              "    }\n",
              "</style>\n",
              "<table border=\"1\" class=\"dataframe\">\n",
              "  <thead>\n",
              "    <tr style=\"text-align: right;\">\n",
              "      <th></th>\n",
              "      <th>danceability</th>\n",
              "      <th>energy</th>\n",
              "      <th>key</th>\n",
              "      <th>loudness</th>\n",
              "      <th>mode</th>\n",
              "      <th>speechiness</th>\n",
              "      <th>acousticness</th>\n",
              "      <th>instrumentalness</th>\n",
              "      <th>liveness</th>\n",
              "      <th>valence</th>\n",
              "      <th>tempo</th>\n",
              "      <th>type</th>\n",
              "      <th>id</th>\n",
              "      <th>uri</th>\n",
              "      <th>track_href</th>\n",
              "      <th>analysis_url</th>\n",
              "      <th>duration_ms</th>\n",
              "      <th>time_signature</th>\n",
              "      <th>genre</th>\n",
              "      <th>song_name</th>\n",
              "      <th>Unnamed: 0</th>\n",
              "      <th>title</th>\n",
              "    </tr>\n",
              "  </thead>\n",
              "  <tbody>\n",
              "    <tr>\n",
              "      <th>0</th>\n",
              "      <td>0.831</td>\n",
              "      <td>0.814</td>\n",
              "      <td>2</td>\n",
              "      <td>-7.364</td>\n",
              "      <td>1</td>\n",
              "      <td>0.4200</td>\n",
              "      <td>0.0598</td>\n",
              "      <td>0.013400</td>\n",
              "      <td>0.0556</td>\n",
              "      <td>0.3890</td>\n",
              "      <td>156.985</td>\n",
              "      <td>audio_features</td>\n",
              "      <td>2Vc6NJ9PW9gD9q343XFRKx</td>\n",
              "      <td>spotify:track:2Vc6NJ9PW9gD9q343XFRKx</td>\n",
              "      <td>https://api.spotify.com/v1/tracks/2Vc6NJ9PW9gD...</td>\n",
              "      <td>https://api.spotify.com/v1/audio-analysis/2Vc6...</td>\n",
              "      <td>124539</td>\n",
              "      <td>4</td>\n",
              "      <td>Dark Trap</td>\n",
              "      <td>Mercury: Retrograde</td>\n",
              "      <td>NaN</td>\n",
              "      <td>NaN</td>\n",
              "    </tr>\n",
              "    <tr>\n",
              "      <th>1</th>\n",
              "      <td>0.719</td>\n",
              "      <td>0.493</td>\n",
              "      <td>8</td>\n",
              "      <td>-7.230</td>\n",
              "      <td>1</td>\n",
              "      <td>0.0794</td>\n",
              "      <td>0.4010</td>\n",
              "      <td>0.000000</td>\n",
              "      <td>0.1180</td>\n",
              "      <td>0.1240</td>\n",
              "      <td>115.080</td>\n",
              "      <td>audio_features</td>\n",
              "      <td>7pgJBLVz5VmnL7uGHmRj6p</td>\n",
              "      <td>spotify:track:7pgJBLVz5VmnL7uGHmRj6p</td>\n",
              "      <td>https://api.spotify.com/v1/tracks/7pgJBLVz5Vmn...</td>\n",
              "      <td>https://api.spotify.com/v1/audio-analysis/7pgJ...</td>\n",
              "      <td>224427</td>\n",
              "      <td>4</td>\n",
              "      <td>Dark Trap</td>\n",
              "      <td>Pathology</td>\n",
              "      <td>NaN</td>\n",
              "      <td>NaN</td>\n",
              "    </tr>\n",
              "    <tr>\n",
              "      <th>2</th>\n",
              "      <td>0.850</td>\n",
              "      <td>0.893</td>\n",
              "      <td>5</td>\n",
              "      <td>-4.783</td>\n",
              "      <td>1</td>\n",
              "      <td>0.0623</td>\n",
              "      <td>0.0138</td>\n",
              "      <td>0.000004</td>\n",
              "      <td>0.3720</td>\n",
              "      <td>0.0391</td>\n",
              "      <td>218.050</td>\n",
              "      <td>audio_features</td>\n",
              "      <td>0vSWgAlfpye0WCGeNmuNhy</td>\n",
              "      <td>spotify:track:0vSWgAlfpye0WCGeNmuNhy</td>\n",
              "      <td>https://api.spotify.com/v1/tracks/0vSWgAlfpye0...</td>\n",
              "      <td>https://api.spotify.com/v1/audio-analysis/0vSW...</td>\n",
              "      <td>98821</td>\n",
              "      <td>4</td>\n",
              "      <td>Dark Trap</td>\n",
              "      <td>Symbiote</td>\n",
              "      <td>NaN</td>\n",
              "      <td>NaN</td>\n",
              "    </tr>\n",
              "    <tr>\n",
              "      <th>3</th>\n",
              "      <td>0.476</td>\n",
              "      <td>0.781</td>\n",
              "      <td>0</td>\n",
              "      <td>-4.710</td>\n",
              "      <td>1</td>\n",
              "      <td>0.1030</td>\n",
              "      <td>0.0237</td>\n",
              "      <td>0.000000</td>\n",
              "      <td>0.1140</td>\n",
              "      <td>0.1750</td>\n",
              "      <td>186.948</td>\n",
              "      <td>audio_features</td>\n",
              "      <td>0VSXnJqQkwuH2ei1nOQ1nu</td>\n",
              "      <td>spotify:track:0VSXnJqQkwuH2ei1nOQ1nu</td>\n",
              "      <td>https://api.spotify.com/v1/tracks/0VSXnJqQkwuH...</td>\n",
              "      <td>https://api.spotify.com/v1/audio-analysis/0VSX...</td>\n",
              "      <td>123661</td>\n",
              "      <td>3</td>\n",
              "      <td>Dark Trap</td>\n",
              "      <td>ProductOfDrugs (Prod. The Virus and Antidote)</td>\n",
              "      <td>NaN</td>\n",
              "      <td>NaN</td>\n",
              "    </tr>\n",
              "    <tr>\n",
              "      <th>4</th>\n",
              "      <td>0.798</td>\n",
              "      <td>0.624</td>\n",
              "      <td>2</td>\n",
              "      <td>-7.668</td>\n",
              "      <td>1</td>\n",
              "      <td>0.2930</td>\n",
              "      <td>0.2170</td>\n",
              "      <td>0.000000</td>\n",
              "      <td>0.1660</td>\n",
              "      <td>0.5910</td>\n",
              "      <td>147.988</td>\n",
              "      <td>audio_features</td>\n",
              "      <td>4jCeguq9rMTlbMmPHuO7S3</td>\n",
              "      <td>spotify:track:4jCeguq9rMTlbMmPHuO7S3</td>\n",
              "      <td>https://api.spotify.com/v1/tracks/4jCeguq9rMTl...</td>\n",
              "      <td>https://api.spotify.com/v1/audio-analysis/4jCe...</td>\n",
              "      <td>123298</td>\n",
              "      <td>4</td>\n",
              "      <td>Dark Trap</td>\n",
              "      <td>Venom</td>\n",
              "      <td>NaN</td>\n",
              "      <td>NaN</td>\n",
              "    </tr>\n",
              "  </tbody>\n",
              "</table>\n",
              "</div>"
            ],
            "text/plain": [
              "   danceability  energy  ...  Unnamed: 0  title\n",
              "0         0.831   0.814  ...         NaN    NaN\n",
              "1         0.719   0.493  ...         NaN    NaN\n",
              "2         0.850   0.893  ...         NaN    NaN\n",
              "3         0.476   0.781  ...         NaN    NaN\n",
              "4         0.798   0.624  ...         NaN    NaN\n",
              "\n",
              "[5 rows x 22 columns]"
            ]
          },
          "metadata": {
            "tags": []
          },
          "execution_count": 139
        }
      ]
    },
    {
      "cell_type": "code",
      "metadata": {
        "colab": {
          "base_uri": "https://localhost:8080/",
          "height": 661
        },
        "id": "oA4DLJ6yxKXo",
        "outputId": "d76b701d-e193-406d-abac-9ceefd24cf5d"
      },
      "source": [
        "data.tail(10)"
      ],
      "execution_count": 140,
      "outputs": [
        {
          "output_type": "execute_result",
          "data": {
            "text/html": [
              "<div>\n",
              "<style scoped>\n",
              "    .dataframe tbody tr th:only-of-type {\n",
              "        vertical-align: middle;\n",
              "    }\n",
              "\n",
              "    .dataframe tbody tr th {\n",
              "        vertical-align: top;\n",
              "    }\n",
              "\n",
              "    .dataframe thead th {\n",
              "        text-align: right;\n",
              "    }\n",
              "</style>\n",
              "<table border=\"1\" class=\"dataframe\">\n",
              "  <thead>\n",
              "    <tr style=\"text-align: right;\">\n",
              "      <th></th>\n",
              "      <th>danceability</th>\n",
              "      <th>energy</th>\n",
              "      <th>key</th>\n",
              "      <th>loudness</th>\n",
              "      <th>mode</th>\n",
              "      <th>speechiness</th>\n",
              "      <th>acousticness</th>\n",
              "      <th>instrumentalness</th>\n",
              "      <th>liveness</th>\n",
              "      <th>valence</th>\n",
              "      <th>tempo</th>\n",
              "      <th>type</th>\n",
              "      <th>id</th>\n",
              "      <th>uri</th>\n",
              "      <th>track_href</th>\n",
              "      <th>analysis_url</th>\n",
              "      <th>duration_ms</th>\n",
              "      <th>time_signature</th>\n",
              "      <th>genre</th>\n",
              "      <th>song_name</th>\n",
              "      <th>Unnamed: 0</th>\n",
              "      <th>title</th>\n",
              "    </tr>\n",
              "  </thead>\n",
              "  <tbody>\n",
              "    <tr>\n",
              "      <th>42295</th>\n",
              "      <td>0.634</td>\n",
              "      <td>0.703</td>\n",
              "      <td>5</td>\n",
              "      <td>-6.237</td>\n",
              "      <td>0</td>\n",
              "      <td>0.0536</td>\n",
              "      <td>0.001450</td>\n",
              "      <td>0.668000</td>\n",
              "      <td>0.0622</td>\n",
              "      <td>0.3240</td>\n",
              "      <td>149.990</td>\n",
              "      <td>audio_features</td>\n",
              "      <td>4KM3VMk9QVuNGAOucnyxN0</td>\n",
              "      <td>spotify:track:4KM3VMk9QVuNGAOucnyxN0</td>\n",
              "      <td>https://api.spotify.com/v1/tracks/4KM3VMk9QVuN...</td>\n",
              "      <td>https://api.spotify.com/v1/audio-analysis/4KM3...</td>\n",
              "      <td>302400</td>\n",
              "      <td>4</td>\n",
              "      <td>hardstyle</td>\n",
              "      <td>NaN</td>\n",
              "      <td>20990.0</td>\n",
              "      <td>Euphoric Hardstyle</td>\n",
              "    </tr>\n",
              "    <tr>\n",
              "      <th>42296</th>\n",
              "      <td>0.512</td>\n",
              "      <td>0.891</td>\n",
              "      <td>9</td>\n",
              "      <td>-3.203</td>\n",
              "      <td>0</td>\n",
              "      <td>0.4100</td>\n",
              "      <td>0.020500</td>\n",
              "      <td>0.000000</td>\n",
              "      <td>0.3310</td>\n",
              "      <td>0.0804</td>\n",
              "      <td>155.036</td>\n",
              "      <td>audio_features</td>\n",
              "      <td>3VmOfQzdx9WB7PNxaBhIPc</td>\n",
              "      <td>spotify:track:3VmOfQzdx9WB7PNxaBhIPc</td>\n",
              "      <td>https://api.spotify.com/v1/tracks/3VmOfQzdx9WB...</td>\n",
              "      <td>https://api.spotify.com/v1/audio-analysis/3VmO...</td>\n",
              "      <td>213290</td>\n",
              "      <td>4</td>\n",
              "      <td>hardstyle</td>\n",
              "      <td>NaN</td>\n",
              "      <td>20991.0</td>\n",
              "      <td>Best of Hardstyle 2020</td>\n",
              "    </tr>\n",
              "    <tr>\n",
              "      <th>42297</th>\n",
              "      <td>0.406</td>\n",
              "      <td>0.918</td>\n",
              "      <td>9</td>\n",
              "      <td>-4.920</td>\n",
              "      <td>0</td>\n",
              "      <td>0.0666</td>\n",
              "      <td>0.191000</td>\n",
              "      <td>0.000092</td>\n",
              "      <td>0.2710</td>\n",
              "      <td>0.2010</td>\n",
              "      <td>155.005</td>\n",
              "      <td>audio_features</td>\n",
              "      <td>4zNXw433Mi463n3TmKxpbG</td>\n",
              "      <td>spotify:track:4zNXw433Mi463n3TmKxpbG</td>\n",
              "      <td>https://api.spotify.com/v1/tracks/4zNXw433Mi46...</td>\n",
              "      <td>https://api.spotify.com/v1/audio-analysis/4zNX...</td>\n",
              "      <td>170323</td>\n",
              "      <td>4</td>\n",
              "      <td>hardstyle</td>\n",
              "      <td>NaN</td>\n",
              "      <td>20992.0</td>\n",
              "      <td>Euphoric Hardstyle</td>\n",
              "    </tr>\n",
              "    <tr>\n",
              "      <th>42298</th>\n",
              "      <td>0.502</td>\n",
              "      <td>0.991</td>\n",
              "      <td>5</td>\n",
              "      <td>-4.333</td>\n",
              "      <td>0</td>\n",
              "      <td>0.2400</td>\n",
              "      <td>0.005540</td>\n",
              "      <td>0.000198</td>\n",
              "      <td>0.4700</td>\n",
              "      <td>0.0797</td>\n",
              "      <td>150.029</td>\n",
              "      <td>audio_features</td>\n",
              "      <td>4PMqy2vJjmv6ydGVqtCqPW</td>\n",
              "      <td>spotify:track:4PMqy2vJjmv6ydGVqtCqPW</td>\n",
              "      <td>https://api.spotify.com/v1/tracks/4PMqy2vJjmv6...</td>\n",
              "      <td>https://api.spotify.com/v1/audio-analysis/4PMq...</td>\n",
              "      <td>200000</td>\n",
              "      <td>4</td>\n",
              "      <td>hardstyle</td>\n",
              "      <td>NaN</td>\n",
              "      <td>20993.0</td>\n",
              "      <td>Euphoric Hardstyle</td>\n",
              "    </tr>\n",
              "    <tr>\n",
              "      <th>42299</th>\n",
              "      <td>0.423</td>\n",
              "      <td>0.904</td>\n",
              "      <td>4</td>\n",
              "      <td>-1.865</td>\n",
              "      <td>0</td>\n",
              "      <td>0.0615</td>\n",
              "      <td>0.010300</td>\n",
              "      <td>0.000000</td>\n",
              "      <td>0.1710</td>\n",
              "      <td>0.1780</td>\n",
              "      <td>150.046</td>\n",
              "      <td>audio_features</td>\n",
              "      <td>7KdYf9e61IxyuWZBW5OFvw</td>\n",
              "      <td>spotify:track:7KdYf9e61IxyuWZBW5OFvw</td>\n",
              "      <td>https://api.spotify.com/v1/tracks/7KdYf9e61Ixy...</td>\n",
              "      <td>https://api.spotify.com/v1/audio-analysis/7KdY...</td>\n",
              "      <td>264800</td>\n",
              "      <td>4</td>\n",
              "      <td>hardstyle</td>\n",
              "      <td>NaN</td>\n",
              "      <td>20994.0</td>\n",
              "      <td>Best Hardstyle ever made</td>\n",
              "    </tr>\n",
              "    <tr>\n",
              "      <th>42300</th>\n",
              "      <td>0.528</td>\n",
              "      <td>0.693</td>\n",
              "      <td>4</td>\n",
              "      <td>-5.148</td>\n",
              "      <td>1</td>\n",
              "      <td>0.0304</td>\n",
              "      <td>0.031500</td>\n",
              "      <td>0.000345</td>\n",
              "      <td>0.1210</td>\n",
              "      <td>0.3940</td>\n",
              "      <td>150.013</td>\n",
              "      <td>audio_features</td>\n",
              "      <td>46bXU7Sgj7104ZoXxzz9tM</td>\n",
              "      <td>spotify:track:46bXU7Sgj7104ZoXxzz9tM</td>\n",
              "      <td>https://api.spotify.com/v1/tracks/46bXU7Sgj710...</td>\n",
              "      <td>https://api.spotify.com/v1/audio-analysis/46bX...</td>\n",
              "      <td>269208</td>\n",
              "      <td>4</td>\n",
              "      <td>hardstyle</td>\n",
              "      <td>NaN</td>\n",
              "      <td>20995.0</td>\n",
              "      <td>Euphoric Hardstyle</td>\n",
              "    </tr>\n",
              "    <tr>\n",
              "      <th>42301</th>\n",
              "      <td>0.517</td>\n",
              "      <td>0.768</td>\n",
              "      <td>0</td>\n",
              "      <td>-7.922</td>\n",
              "      <td>0</td>\n",
              "      <td>0.0479</td>\n",
              "      <td>0.022500</td>\n",
              "      <td>0.000018</td>\n",
              "      <td>0.2050</td>\n",
              "      <td>0.3830</td>\n",
              "      <td>149.928</td>\n",
              "      <td>audio_features</td>\n",
              "      <td>0he2ViGMUO3ajKTxLOfWVT</td>\n",
              "      <td>spotify:track:0he2ViGMUO3ajKTxLOfWVT</td>\n",
              "      <td>https://api.spotify.com/v1/tracks/0he2ViGMUO3a...</td>\n",
              "      <td>https://api.spotify.com/v1/audio-analysis/0he2...</td>\n",
              "      <td>210112</td>\n",
              "      <td>4</td>\n",
              "      <td>hardstyle</td>\n",
              "      <td>NaN</td>\n",
              "      <td>20996.0</td>\n",
              "      <td>Greatest Hardstyle Playlist</td>\n",
              "    </tr>\n",
              "    <tr>\n",
              "      <th>42302</th>\n",
              "      <td>0.361</td>\n",
              "      <td>0.821</td>\n",
              "      <td>8</td>\n",
              "      <td>-3.102</td>\n",
              "      <td>1</td>\n",
              "      <td>0.0505</td>\n",
              "      <td>0.026000</td>\n",
              "      <td>0.000242</td>\n",
              "      <td>0.3850</td>\n",
              "      <td>0.1240</td>\n",
              "      <td>154.935</td>\n",
              "      <td>audio_features</td>\n",
              "      <td>72DAt9Lbpy9EUS29OzQLob</td>\n",
              "      <td>spotify:track:72DAt9Lbpy9EUS29OzQLob</td>\n",
              "      <td>https://api.spotify.com/v1/tracks/72DAt9Lbpy9E...</td>\n",
              "      <td>https://api.spotify.com/v1/audio-analysis/72DA...</td>\n",
              "      <td>234823</td>\n",
              "      <td>4</td>\n",
              "      <td>hardstyle</td>\n",
              "      <td>NaN</td>\n",
              "      <td>20997.0</td>\n",
              "      <td>Best of Hardstyle 2020</td>\n",
              "    </tr>\n",
              "    <tr>\n",
              "      <th>42303</th>\n",
              "      <td>0.477</td>\n",
              "      <td>0.921</td>\n",
              "      <td>6</td>\n",
              "      <td>-4.777</td>\n",
              "      <td>0</td>\n",
              "      <td>0.0392</td>\n",
              "      <td>0.000551</td>\n",
              "      <td>0.029600</td>\n",
              "      <td>0.0575</td>\n",
              "      <td>0.4880</td>\n",
              "      <td>150.042</td>\n",
              "      <td>audio_features</td>\n",
              "      <td>6HXgExFVuE1c3cq9QjFCcU</td>\n",
              "      <td>spotify:track:6HXgExFVuE1c3cq9QjFCcU</td>\n",
              "      <td>https://api.spotify.com/v1/tracks/6HXgExFVuE1c...</td>\n",
              "      <td>https://api.spotify.com/v1/audio-analysis/6HXg...</td>\n",
              "      <td>323200</td>\n",
              "      <td>4</td>\n",
              "      <td>hardstyle</td>\n",
              "      <td>NaN</td>\n",
              "      <td>20998.0</td>\n",
              "      <td>Euphoric Hardstyle</td>\n",
              "    </tr>\n",
              "    <tr>\n",
              "      <th>42304</th>\n",
              "      <td>0.529</td>\n",
              "      <td>0.945</td>\n",
              "      <td>9</td>\n",
              "      <td>-5.862</td>\n",
              "      <td>1</td>\n",
              "      <td>0.0615</td>\n",
              "      <td>0.001890</td>\n",
              "      <td>0.000055</td>\n",
              "      <td>0.4140</td>\n",
              "      <td>0.1340</td>\n",
              "      <td>155.047</td>\n",
              "      <td>audio_features</td>\n",
              "      <td>6MAAMZImxcvYhRnxDLTufD</td>\n",
              "      <td>spotify:track:6MAAMZImxcvYhRnxDLTufD</td>\n",
              "      <td>https://api.spotify.com/v1/tracks/6MAAMZImxcvY...</td>\n",
              "      <td>https://api.spotify.com/v1/audio-analysis/6MAA...</td>\n",
              "      <td>162161</td>\n",
              "      <td>4</td>\n",
              "      <td>hardstyle</td>\n",
              "      <td>NaN</td>\n",
              "      <td>20999.0</td>\n",
              "      <td>Best of Hardstyle 2020</td>\n",
              "    </tr>\n",
              "  </tbody>\n",
              "</table>\n",
              "</div>"
            ],
            "text/plain": [
              "       danceability  energy  ...  Unnamed: 0                        title\n",
              "42295         0.634   0.703  ...     20990.0           Euphoric Hardstyle\n",
              "42296         0.512   0.891  ...     20991.0       Best of Hardstyle 2020\n",
              "42297         0.406   0.918  ...     20992.0           Euphoric Hardstyle\n",
              "42298         0.502   0.991  ...     20993.0           Euphoric Hardstyle\n",
              "42299         0.423   0.904  ...     20994.0     Best Hardstyle ever made\n",
              "42300         0.528   0.693  ...     20995.0           Euphoric Hardstyle\n",
              "42301         0.517   0.768  ...     20996.0  Greatest Hardstyle Playlist\n",
              "42302         0.361   0.821  ...     20997.0       Best of Hardstyle 2020\n",
              "42303         0.477   0.921  ...     20998.0           Euphoric Hardstyle\n",
              "42304         0.529   0.945  ...     20999.0       Best of Hardstyle 2020\n",
              "\n",
              "[10 rows x 22 columns]"
            ]
          },
          "metadata": {
            "tags": []
          },
          "execution_count": 140
        }
      ]
    },
    {
      "cell_type": "code",
      "metadata": {
        "colab": {
          "base_uri": "https://localhost:8080/"
        },
        "id": "LrWzaA0fKjgv",
        "outputId": "a4c254dd-128a-4e08-9af1-36b476585225"
      },
      "source": [
        "data.dtypes"
      ],
      "execution_count": 141,
      "outputs": [
        {
          "output_type": "execute_result",
          "data": {
            "text/plain": [
              "danceability        float64\n",
              "energy              float64\n",
              "key                   int64\n",
              "loudness            float64\n",
              "mode                  int64\n",
              "speechiness         float64\n",
              "acousticness        float64\n",
              "instrumentalness    float64\n",
              "liveness            float64\n",
              "valence             float64\n",
              "tempo               float64\n",
              "type                 object\n",
              "id                   object\n",
              "uri                  object\n",
              "track_href           object\n",
              "analysis_url         object\n",
              "duration_ms           int64\n",
              "time_signature        int64\n",
              "genre                object\n",
              "song_name            object\n",
              "Unnamed: 0          float64\n",
              "title                object\n",
              "dtype: object"
            ]
          },
          "metadata": {
            "tags": []
          },
          "execution_count": 141
        }
      ]
    },
    {
      "cell_type": "code",
      "metadata": {
        "colab": {
          "base_uri": "https://localhost:8080/"
        },
        "id": "tgc12lteXosk",
        "outputId": "6d216129-8e90-41b2-efb0-e03f9e4516a3"
      },
      "source": [
        "data.shape"
      ],
      "execution_count": 142,
      "outputs": [
        {
          "output_type": "execute_result",
          "data": {
            "text/plain": [
              "(42305, 22)"
            ]
          },
          "metadata": {
            "tags": []
          },
          "execution_count": 142
        }
      ]
    },
    {
      "cell_type": "code",
      "metadata": {
        "colab": {
          "base_uri": "https://localhost:8080/",
          "height": 314
        },
        "id": "R9d6sokCXtDI",
        "outputId": "8f48dfb1-a9b5-4ff9-c0b7-ca5005b86da1"
      },
      "source": [
        "data.describe()"
      ],
      "execution_count": 143,
      "outputs": [
        {
          "output_type": "execute_result",
          "data": {
            "text/html": [
              "<div>\n",
              "<style scoped>\n",
              "    .dataframe tbody tr th:only-of-type {\n",
              "        vertical-align: middle;\n",
              "    }\n",
              "\n",
              "    .dataframe tbody tr th {\n",
              "        vertical-align: top;\n",
              "    }\n",
              "\n",
              "    .dataframe thead th {\n",
              "        text-align: right;\n",
              "    }\n",
              "</style>\n",
              "<table border=\"1\" class=\"dataframe\">\n",
              "  <thead>\n",
              "    <tr style=\"text-align: right;\">\n",
              "      <th></th>\n",
              "      <th>danceability</th>\n",
              "      <th>energy</th>\n",
              "      <th>key</th>\n",
              "      <th>loudness</th>\n",
              "      <th>mode</th>\n",
              "      <th>speechiness</th>\n",
              "      <th>acousticness</th>\n",
              "      <th>instrumentalness</th>\n",
              "      <th>liveness</th>\n",
              "      <th>valence</th>\n",
              "      <th>tempo</th>\n",
              "      <th>duration_ms</th>\n",
              "      <th>time_signature</th>\n",
              "      <th>Unnamed: 0</th>\n",
              "    </tr>\n",
              "  </thead>\n",
              "  <tbody>\n",
              "    <tr>\n",
              "      <th>count</th>\n",
              "      <td>42305.000000</td>\n",
              "      <td>42305.000000</td>\n",
              "      <td>42305.000000</td>\n",
              "      <td>42305.000000</td>\n",
              "      <td>42305.000000</td>\n",
              "      <td>42305.000000</td>\n",
              "      <td>42305.000000</td>\n",
              "      <td>42305.000000</td>\n",
              "      <td>42305.000000</td>\n",
              "      <td>42305.000000</td>\n",
              "      <td>42305.000000</td>\n",
              "      <td>42305.000000</td>\n",
              "      <td>42305.000000</td>\n",
              "      <td>20780.000000</td>\n",
              "    </tr>\n",
              "    <tr>\n",
              "      <th>mean</th>\n",
              "      <td>0.639364</td>\n",
              "      <td>0.762516</td>\n",
              "      <td>5.370240</td>\n",
              "      <td>-6.465442</td>\n",
              "      <td>0.549462</td>\n",
              "      <td>0.136561</td>\n",
              "      <td>0.096160</td>\n",
              "      <td>0.283048</td>\n",
              "      <td>0.214079</td>\n",
              "      <td>0.357101</td>\n",
              "      <td>147.474056</td>\n",
              "      <td>250865.846685</td>\n",
              "      <td>3.972580</td>\n",
              "      <td>10483.970645</td>\n",
              "    </tr>\n",
              "    <tr>\n",
              "      <th>std</th>\n",
              "      <td>0.156617</td>\n",
              "      <td>0.183823</td>\n",
              "      <td>3.666145</td>\n",
              "      <td>2.941165</td>\n",
              "      <td>0.497553</td>\n",
              "      <td>0.126168</td>\n",
              "      <td>0.170827</td>\n",
              "      <td>0.370791</td>\n",
              "      <td>0.175576</td>\n",
              "      <td>0.233200</td>\n",
              "      <td>23.844623</td>\n",
              "      <td>102957.713571</td>\n",
              "      <td>0.268342</td>\n",
              "      <td>6052.359519</td>\n",
              "    </tr>\n",
              "    <tr>\n",
              "      <th>min</th>\n",
              "      <td>0.065100</td>\n",
              "      <td>0.000243</td>\n",
              "      <td>0.000000</td>\n",
              "      <td>-33.357000</td>\n",
              "      <td>0.000000</td>\n",
              "      <td>0.022700</td>\n",
              "      <td>0.000001</td>\n",
              "      <td>0.000000</td>\n",
              "      <td>0.010700</td>\n",
              "      <td>0.018700</td>\n",
              "      <td>57.967000</td>\n",
              "      <td>25600.000000</td>\n",
              "      <td>1.000000</td>\n",
              "      <td>0.000000</td>\n",
              "    </tr>\n",
              "    <tr>\n",
              "      <th>25%</th>\n",
              "      <td>0.524000</td>\n",
              "      <td>0.632000</td>\n",
              "      <td>1.000000</td>\n",
              "      <td>-8.161000</td>\n",
              "      <td>0.000000</td>\n",
              "      <td>0.049100</td>\n",
              "      <td>0.001730</td>\n",
              "      <td>0.000000</td>\n",
              "      <td>0.099600</td>\n",
              "      <td>0.161000</td>\n",
              "      <td>129.931000</td>\n",
              "      <td>179840.000000</td>\n",
              "      <td>4.000000</td>\n",
              "      <td>5255.750000</td>\n",
              "    </tr>\n",
              "    <tr>\n",
              "      <th>50%</th>\n",
              "      <td>0.646000</td>\n",
              "      <td>0.803000</td>\n",
              "      <td>6.000000</td>\n",
              "      <td>-6.234000</td>\n",
              "      <td>1.000000</td>\n",
              "      <td>0.075500</td>\n",
              "      <td>0.016400</td>\n",
              "      <td>0.005940</td>\n",
              "      <td>0.135000</td>\n",
              "      <td>0.322000</td>\n",
              "      <td>144.973000</td>\n",
              "      <td>224760.000000</td>\n",
              "      <td>4.000000</td>\n",
              "      <td>10479.500000</td>\n",
              "    </tr>\n",
              "    <tr>\n",
              "      <th>75%</th>\n",
              "      <td>0.766000</td>\n",
              "      <td>0.923000</td>\n",
              "      <td>9.000000</td>\n",
              "      <td>-4.513000</td>\n",
              "      <td>1.000000</td>\n",
              "      <td>0.193000</td>\n",
              "      <td>0.107000</td>\n",
              "      <td>0.722000</td>\n",
              "      <td>0.294000</td>\n",
              "      <td>0.522000</td>\n",
              "      <td>161.464000</td>\n",
              "      <td>301133.000000</td>\n",
              "      <td>4.000000</td>\n",
              "      <td>15709.250000</td>\n",
              "    </tr>\n",
              "    <tr>\n",
              "      <th>max</th>\n",
              "      <td>0.988000</td>\n",
              "      <td>1.000000</td>\n",
              "      <td>11.000000</td>\n",
              "      <td>3.148000</td>\n",
              "      <td>1.000000</td>\n",
              "      <td>0.946000</td>\n",
              "      <td>0.988000</td>\n",
              "      <td>0.989000</td>\n",
              "      <td>0.988000</td>\n",
              "      <td>0.988000</td>\n",
              "      <td>220.290000</td>\n",
              "      <td>913052.000000</td>\n",
              "      <td>5.000000</td>\n",
              "      <td>20999.000000</td>\n",
              "    </tr>\n",
              "  </tbody>\n",
              "</table>\n",
              "</div>"
            ],
            "text/plain": [
              "       danceability        energy  ...  time_signature    Unnamed: 0\n",
              "count  42305.000000  42305.000000  ...    42305.000000  20780.000000\n",
              "mean       0.639364      0.762516  ...        3.972580  10483.970645\n",
              "std        0.156617      0.183823  ...        0.268342   6052.359519\n",
              "min        0.065100      0.000243  ...        1.000000      0.000000\n",
              "25%        0.524000      0.632000  ...        4.000000   5255.750000\n",
              "50%        0.646000      0.803000  ...        4.000000  10479.500000\n",
              "75%        0.766000      0.923000  ...        4.000000  15709.250000\n",
              "max        0.988000      1.000000  ...        5.000000  20999.000000\n",
              "\n",
              "[8 rows x 14 columns]"
            ]
          },
          "metadata": {
            "tags": []
          },
          "execution_count": 143
        }
      ]
    },
    {
      "cell_type": "code",
      "metadata": {
        "colab": {
          "base_uri": "https://localhost:8080/"
        },
        "id": "0Xj5J78-P_K-",
        "outputId": "db1f715a-5e3c-4082-ce50-b0af334fc506"
      },
      "source": [
        "data.columns"
      ],
      "execution_count": 144,
      "outputs": [
        {
          "output_type": "execute_result",
          "data": {
            "text/plain": [
              "Index(['danceability', 'energy', 'key', 'loudness', 'mode', 'speechiness',\n",
              "       'acousticness', 'instrumentalness', 'liveness', 'valence', 'tempo',\n",
              "       'type', 'id', 'uri', 'track_href', 'analysis_url', 'duration_ms',\n",
              "       'time_signature', 'genre', 'song_name', 'Unnamed: 0', 'title'],\n",
              "      dtype='object')"
            ]
          },
          "metadata": {
            "tags": []
          },
          "execution_count": 144
        }
      ]
    },
    {
      "cell_type": "code",
      "metadata": {
        "id": "6tAus9igLcDV"
      },
      "source": [
        ""
      ],
      "execution_count": 144,
      "outputs": []
    },
    {
      "cell_type": "code",
      "metadata": {
        "colab": {
          "base_uri": "https://localhost:8080/",
          "height": 118
        },
        "id": "Yi3jVWS5HyPr",
        "outputId": "dc332a51-cbf3-4a9b-b76e-0db9715c47c6"
      },
      "source": [
        "str(data)"
      ],
      "execution_count": 145,
      "outputs": [
        {
          "output_type": "execute_result",
          "data": {
            "application/vnd.google.colaboratory.intrinsic+json": {
              "type": "string"
            },
            "text/plain": [
              "'       danceability  energy  ...  Unnamed: 0                        title\\n0             0.831   0.814  ...         NaN                          NaN\\n1             0.719   0.493  ...         NaN                          NaN\\n2             0.850   0.893  ...         NaN                          NaN\\n3             0.476   0.781  ...         NaN                          NaN\\n4             0.798   0.624  ...         NaN                          NaN\\n...             ...     ...  ...         ...                          ...\\n42300         0.528   0.693  ...     20995.0           Euphoric Hardstyle\\n42301         0.517   0.768  ...     20996.0  Greatest Hardstyle Playlist\\n42302         0.361   0.821  ...     20997.0       Best of Hardstyle 2020\\n42303         0.477   0.921  ...     20998.0           Euphoric Hardstyle\\n42304         0.529   0.945  ...     20999.0       Best of Hardstyle 2020\\n\\n[42305 rows x 22 columns]'"
            ]
          },
          "metadata": {
            "tags": []
          },
          "execution_count": 145
        }
      ]
    },
    {
      "cell_type": "code",
      "metadata": {
        "id": "TylbJgjvaDkg"
      },
      "source": [
        "data_orig=data.copy()"
      ],
      "execution_count": 146,
      "outputs": []
    },
    {
      "cell_type": "code",
      "metadata": {
        "id": "70UzQRdKakUh",
        "colab": {
          "base_uri": "https://localhost:8080/"
        },
        "outputId": "f499be32-a15d-45d6-f16d-65f25d4e2e90"
      },
      "source": [
        "data.energy.describe()"
      ],
      "execution_count": 147,
      "outputs": [
        {
          "output_type": "execute_result",
          "data": {
            "text/plain": [
              "count    42305.000000\n",
              "mean         0.762516\n",
              "std          0.183823\n",
              "min          0.000243\n",
              "25%          0.632000\n",
              "50%          0.803000\n",
              "75%          0.923000\n",
              "max          1.000000\n",
              "Name: energy, dtype: float64"
            ]
          },
          "metadata": {
            "tags": []
          },
          "execution_count": 147
        }
      ]
    },
    {
      "cell_type": "code",
      "metadata": {
        "colab": {
          "base_uri": "https://localhost:8080/",
          "height": 296
        },
        "id": "ZBqGrU5ITcqK",
        "outputId": "640faf92-48a5-48dd-dcdb-13147c037cd8"
      },
      "source": [
        "sns.kdeplot(data.danceability)"
      ],
      "execution_count": 148,
      "outputs": [
        {
          "output_type": "execute_result",
          "data": {
            "text/plain": [
              "<matplotlib.axes._subplots.AxesSubplot at 0x7fb3b22939d0>"
            ]
          },
          "metadata": {
            "tags": []
          },
          "execution_count": 148
        },
        {
          "output_type": "display_data",
          "data": {
            "image/png": "[encoded data removed]",
            "text/plain": [
              "<Figure size 432x288 with 1 Axes>"
            ]
          },
          "metadata": {
            "tags": [],
            "needs_background": "light"
          }
        }
      ]
    },
    {
      "cell_type": "code",
      "metadata": {
        "colab": {
          "base_uri": "https://localhost:8080/"
        },
        "id": "Fyc3_ZKxLic8",
        "outputId": "c9d225ac-4611-4319-d8fc-d6463f4c8137"
      },
      "source": [
        "data.genre.unique()"
      ],
      "execution_count": 149,
      "outputs": [
        {
          "output_type": "execute_result",
          "data": {
            "text/plain": [
              "array(['Dark Trap', 'Underground Rap', 'Trap Metal', 'Emo', 'Rap', 'RnB',\n",
              "       'Pop', 'Hiphop', 'techhouse', 'techno', 'trance', 'psytrance',\n",
              "       'trap', 'dnb', 'hardstyle'], dtype=object)"
            ]
          },
          "metadata": {
            "tags": []
          },
          "execution_count": 149
        }
      ]
    },
    {
      "cell_type": "code",
      "metadata": {
        "colab": {
          "base_uri": "https://localhost:8080/"
        },
        "id": "3skLGSiGvxku",
        "outputId": "af263b11-1ea3-4761-e9b3-1afb132c0864"
      },
      "source": [
        "data.nunique()"
      ],
      "execution_count": 150,
      "outputs": [
        {
          "output_type": "execute_result",
          "data": {
            "text/plain": [
              "danceability          921\n",
              "energy                955\n",
              "key                    12\n",
              "loudness            12105\n",
              "mode                    2\n",
              "speechiness          1474\n",
              "acousticness         4707\n",
              "instrumentalness     4867\n",
              "liveness             1737\n",
              "valence              1716\n",
              "tempo               15569\n",
              "type                    1\n",
              "id                  35877\n",
              "uri                 35877\n",
              "track_href          35877\n",
              "analysis_url        35877\n",
              "duration_ms         26261\n",
              "time_signature          4\n",
              "genre                  15\n",
              "song_name           15439\n",
              "Unnamed: 0          20780\n",
              "title                 132\n",
              "dtype: int64"
            ]
          },
          "metadata": {
            "tags": []
          },
          "execution_count": 150
        }
      ]
    },
    {
      "cell_type": "markdown",
      "metadata": {
        "id": "_awFnkzjxh3k"
      },
      "source": [
        "Looks like the type feature has only one unique value.We can ignore it.and Id columns and unknown ,songname all these won't help us in any way.lets drop these columns."
      ]
    },
    {
      "cell_type": "code",
      "metadata": {
        "id": "thckPhB7yFNF"
      },
      "source": [
        "data.drop(['id','uri','Unnamed: 0','song_name'],axis=1,inplace=True)"
      ],
      "execution_count": 151,
      "outputs": []
    },
    {
      "cell_type": "code",
      "metadata": {
        "colab": {
          "base_uri": "https://localhost:8080/"
        },
        "id": "rQZf61RYy194",
        "outputId": "5adc0647-da3d-4ed2-a275-2d8565e7772a"
      },
      "source": [
        "data.columns"
      ],
      "execution_count": 152,
      "outputs": [
        {
          "output_type": "execute_result",
          "data": {
            "text/plain": [
              "Index(['danceability', 'energy', 'key', 'loudness', 'mode', 'speechiness',\n",
              "       'acousticness', 'instrumentalness', 'liveness', 'valence', 'tempo',\n",
              "       'type', 'track_href', 'analysis_url', 'duration_ms', 'time_signature',\n",
              "       'genre', 'title'],\n",
              "      dtype='object')"
            ]
          },
          "metadata": {
            "tags": []
          },
          "execution_count": 152
        }
      ]
    },
    {
      "cell_type": "code",
      "metadata": {
        "colab": {
          "base_uri": "https://localhost:8080/"
        },
        "id": "7wPCSKJVz4Ei",
        "outputId": "3429e963-80e7-4898-9488-32777abdcd8a"
      },
      "source": [
        "#find null values\n",
        "data.apply(lambda x: sum(x.isnull()),axis=0)"
      ],
      "execution_count": 153,
      "outputs": [
        {
          "output_type": "execute_result",
          "data": {
            "text/plain": [
              "danceability            0\n",
              "energy                  0\n",
              "key                     0\n",
              "loudness                0\n",
              "mode                    0\n",
              "speechiness             0\n",
              "acousticness            0\n",
              "instrumentalness        0\n",
              "liveness                0\n",
              "valence                 0\n",
              "tempo                   0\n",
              "type                    0\n",
              "track_href              0\n",
              "analysis_url            0\n",
              "duration_ms             0\n",
              "time_signature          0\n",
              "genre                   0\n",
              "title               21525\n",
              "dtype: int64"
            ]
          },
          "metadata": {
            "tags": []
          },
          "execution_count": 153
        }
      ]
    },
    {
      "cell_type": "markdown",
      "metadata": {
        "id": "bhTwsbP80He1"
      },
      "source": [
        "Title column has more null values"
      ]
    },
    {
      "cell_type": "code",
      "metadata": {
        "colab": {
          "base_uri": "https://localhost:8080/"
        },
        "id": "IwaHT3GW0WJq",
        "outputId": "7ae059c2-dc94-42b9-e4aa-63bdbf59d32d"
      },
      "source": [
        "data.title.unique()"
      ],
      "execution_count": 154,
      "outputs": [
        {
          "output_type": "execute_result",
          "data": {
            "text/plain": [
              "array([nan, 'Dirtybird Players', 'Tech House Movement', 'tech house',\n",
              "       'Tech House Bangerz', 'blanc | Tech House', 'Toolroom Tech House',\n",
              "       'Tech house', 'Dirtybird//Techhouse by Mack\\\\',\n",
              "       'BOILER ROOM TECHNO HOUSE', 'Tech House Music 2020',\n",
              "       'Tech House 2020 - Best of Techno', 'Tech House Rotation 2020',\n",
              "       'Dirtybird House', 'Tech House Essentials by Distortion',\n",
              "       'Tech House', 'Tech House 2020', 'Tech House by DOT Dance',\n",
              "       'Beatoirt Best New Tech House', 'Tech House Elrow Secrets',\n",
              "       'Tech House Club', 'Tech House Top 50', 'Tech House Pizza',\n",
              "       'Techno', 'techno. only. (08/02)', 'DARK UNDERGROUND TECHNO',\n",
              "       'True Techno', 'Dark Techno Rave', 'Dark Techno',\n",
              "       '|DARK|HARD|TECHNO', 'Acid Techno: Hard Techno on Acid',\n",
              "       'Techno / Minimal / Hardcore/ Melodic / Dark', 'Acid Techno',\n",
              "       'Techno Music Matters', 'Techno Music 2020 | Best Techno',\n",
              "       'Techno Bangers', 'Top Techno Tracks 2020',\n",
              "       'Minimal Techno: The Dark Undergound',\n",
              "       'Techno Bangers: Bunker Style', 'Techno Top 50',\n",
              "       'TECHNO Complex 2020', 'Techno Bunker',\n",
              "       'Best New Techno - When We Dip', 'Techno Daily', 'Techno 2020',\n",
              "       'Uplifting | Trance', 'Top Trance Songs EVER',\n",
              "       'Anjunabeats Volumes 1 - 14', 'Progressive Trance',\n",
              "       'Uplifting, Melodic Trance & Vocal Trance',\n",
              "       'UPLIFTING TRANCE 2020', 'Uplifting Trance.',\n",
              "       'Vocal Melodic Trance Top 1000',\n",
              "       'State if Trance (The best ASOT Epsidoes)', 'Best of Trance',\n",
              "       'ASOT', 'Uplifting Trance, Euphoric Trance',\n",
              "       'Trance 100 Chart - by Armada Music', 'Trance Mission',\n",
              "       'TRANCE 2020 TRANCE MUSIC 2020',\n",
              "       'TRANNCE 2020 Best Trance Music Official', 'Uplifting Trance 2019',\n",
              "       'Trance List | TOP Trance', 'Progressive & Melodic Trance',\n",
              "       'Psy Trance Full-on Morning', 'Psytrance New Releases 2020',\n",
              "       'Psytrance: From Full on to Forrest Trance', 'Psytrance Can',\n",
              "       'PsyTrance 2019 By GMR', 'Psytrance Supernova',\n",
              "       'PsyTrance 2020 By GMR', 'PsyTrance 2020 felipe',\n",
              "       'PSYTRANCE BANGERS best new 2020', 'Psytrance 2020',\n",
              "       'Best Psytrance 2020', 'Psy, Goa, Full on Trance',\n",
              "       'DARK PSYTRANCE', 'Psytrance: Full on New Releases 2020',\n",
              "       'PsytranceL Full on Progressive (&Goa)',\n",
              "       'Psytrance Intensifies (Goa, Psychedelic, Full on)',\n",
              "       'PsyTrance 2020/ Progressive PsyTrance Mix', 'Best of PsyTrance',\n",
              "       'Headbangers:Dubstep/Riddim', 'HEADBANGERS:Dubstep/Riddim',\n",
              "       'Riddim Dubstep 2017-2018-2019', 'Riddim or die',\n",
              "       'Lost Lands 2020', \"I'm a fucking Headbanger\", 'Heavy Dubstep',\n",
              "       'Riddim Dubstep', 'Lost Lands 2019', 'RIDDIM 2020 & Riddim Hits',\n",
              "       'Trap and Bass', 'Heavy Hitters', 'RIDDIM', 'Trap & Bass 2020',\n",
              "       'Riddim Lords', 'Buygore: Dubstep, Riddim, Trap and More',\n",
              "       'EDC 2020 Bass Pod', \"HALCYON's 808 BASEMENT\",\n",
              "       'Drum and Bass 2020', 'Liqduicity Drum & Bass',\n",
              "       'Drum and Bass - 2015 to 2020', 'Liquid Drum and Bass',\n",
              "       'UKF Drum & Bass', 'UKF Drum & Bass - All Uploads',\n",
              "       'Liquid Drum and Bass Sessions 2020', 'Liquid Drum & Bass',\n",
              "       'Drum and Bass 2020 (Drum & Bass Music - DNB Hits)',\n",
              "       'DRUM & BASS 2020', 'Stepping Out', 'Drum & Bass 2020',\n",
              "       'Fingah Pistols!', 'Drum and Bass - Running 2020',\n",
              "       'Massive Drum & Bass', 'Drum and Bass Top 50',\n",
              "       'Euphoric Hardstyle', 'Best Hardstyle ever made',\n",
              "       'Hardstyle 2020 | Updated Weekly', 'Best of Hardstyle 2020',\n",
              "       'Euphoric Hardstyle & Melodic Hardstyle', 'Ready2GetMaggot?',\n",
              "       'Hardstyle Daily', 'Euphoric Hardstyle - 2020',\n",
              "       'Greatest Hardstyle Playlist',\n",
              "       'Hardstyle Remixes of Popular Songs!', 'Hardstlye - 2020',\n",
              "       'Hardstyle 2020', 'Melodic Hardstyle 2020',\n",
              "       'Q-Dance | Hardstyle | Top 100 | 2019', 'Hardstyle by Q-dance',\n",
              "       'Hardstyle Hits ', 'Hardstyle || HARD with STYLE Playlist'],\n",
              "      dtype=object)"
            ]
          },
          "metadata": {
            "tags": []
          },
          "execution_count": 154
        }
      ]
    },
    {
      "cell_type": "code",
      "metadata": {
        "colab": {
          "base_uri": "https://localhost:8080/",
          "height": 602
        },
        "id": "CqKX7NKi0r6m",
        "outputId": "b6450d3b-8534-4422-a509-9b196d8f8f20"
      },
      "source": [
        "data.drop('title',axis=1)"
      ],
      "execution_count": 155,
      "outputs": [
        {
          "output_type": "execute_result",
          "data": {
            "text/html": [
              "<div>\n",
              "<style scoped>\n",
              "    .dataframe tbody tr th:only-of-type {\n",
              "        vertical-align: middle;\n",
              "    }\n",
              "\n",
              "    .dataframe tbody tr th {\n",
              "        vertical-align: top;\n",
              "    }\n",
              "\n",
              "    .dataframe thead th {\n",
              "        text-align: right;\n",
              "    }\n",
              "</style>\n",
              "<table border=\"1\" class=\"dataframe\">\n",
              "  <thead>\n",
              "    <tr style=\"text-align: right;\">\n",
              "      <th></th>\n",
              "      <th>danceability</th>\n",
              "      <th>energy</th>\n",
              "      <th>key</th>\n",
              "      <th>loudness</th>\n",
              "      <th>mode</th>\n",
              "      <th>speechiness</th>\n",
              "      <th>acousticness</th>\n",
              "      <th>instrumentalness</th>\n",
              "      <th>liveness</th>\n",
              "      <th>valence</th>\n",
              "      <th>tempo</th>\n",
              "      <th>type</th>\n",
              "      <th>track_href</th>\n",
              "      <th>analysis_url</th>\n",
              "      <th>duration_ms</th>\n",
              "      <th>time_signature</th>\n",
              "      <th>genre</th>\n",
              "    </tr>\n",
              "  </thead>\n",
              "  <tbody>\n",
              "    <tr>\n",
              "      <th>0</th>\n",
              "      <td>0.831</td>\n",
              "      <td>0.814</td>\n",
              "      <td>2</td>\n",
              "      <td>-7.364</td>\n",
              "      <td>1</td>\n",
              "      <td>0.4200</td>\n",
              "      <td>0.059800</td>\n",
              "      <td>0.013400</td>\n",
              "      <td>0.0556</td>\n",
              "      <td>0.3890</td>\n",
              "      <td>156.985</td>\n",
              "      <td>audio_features</td>\n",
              "      <td>https://api.spotify.com/v1/tracks/2Vc6NJ9PW9gD...</td>\n",
              "      <td>https://api.spotify.com/v1/audio-analysis/2Vc6...</td>\n",
              "      <td>124539</td>\n",
              "      <td>4</td>\n",
              "      <td>Dark Trap</td>\n",
              "    </tr>\n",
              "    <tr>\n",
              "      <th>1</th>\n",
              "      <td>0.719</td>\n",
              "      <td>0.493</td>\n",
              "      <td>8</td>\n",
              "      <td>-7.230</td>\n",
              "      <td>1</td>\n",
              "      <td>0.0794</td>\n",
              "      <td>0.401000</td>\n",
              "      <td>0.000000</td>\n",
              "      <td>0.1180</td>\n",
              "      <td>0.1240</td>\n",
              "      <td>115.080</td>\n",
              "      <td>audio_features</td>\n",
              "      <td>https://api.spotify.com/v1/tracks/7pgJBLVz5Vmn...</td>\n",
              "      <td>https://api.spotify.com/v1/audio-analysis/7pgJ...</td>\n",
              "      <td>224427</td>\n",
              "      <td>4</td>\n",
              "      <td>Dark Trap</td>\n",
              "    </tr>\n",
              "    <tr>\n",
              "      <th>2</th>\n",
              "      <td>0.850</td>\n",
              "      <td>0.893</td>\n",
              "      <td>5</td>\n",
              "      <td>-4.783</td>\n",
              "      <td>1</td>\n",
              "      <td>0.0623</td>\n",
              "      <td>0.013800</td>\n",
              "      <td>0.000004</td>\n",
              "      <td>0.3720</td>\n",
              "      <td>0.0391</td>\n",
              "      <td>218.050</td>\n",
              "      <td>audio_features</td>\n",
              "      <td>https://api.spotify.com/v1/tracks/0vSWgAlfpye0...</td>\n",
              "      <td>https://api.spotify.com/v1/audio-analysis/0vSW...</td>\n",
              "      <td>98821</td>\n",
              "      <td>4</td>\n",
              "      <td>Dark Trap</td>\n",
              "    </tr>\n",
              "    <tr>\n",
              "      <th>3</th>\n",
              "      <td>0.476</td>\n",
              "      <td>0.781</td>\n",
              "      <td>0</td>\n",
              "      <td>-4.710</td>\n",
              "      <td>1</td>\n",
              "      <td>0.1030</td>\n",
              "      <td>0.023700</td>\n",
              "      <td>0.000000</td>\n",
              "      <td>0.1140</td>\n",
              "      <td>0.1750</td>\n",
              "      <td>186.948</td>\n",
              "      <td>audio_features</td>\n",
              "      <td>https://api.spotify.com/v1/tracks/0VSXnJqQkwuH...</td>\n",
              "      <td>https://api.spotify.com/v1/audio-analysis/0VSX...</td>\n",
              "      <td>123661</td>\n",
              "      <td>3</td>\n",
              "      <td>Dark Trap</td>\n",
              "    </tr>\n",
              "    <tr>\n",
              "      <th>4</th>\n",
              "      <td>0.798</td>\n",
              "      <td>0.624</td>\n",
              "      <td>2</td>\n",
              "      <td>-7.668</td>\n",
              "      <td>1</td>\n",
              "      <td>0.2930</td>\n",
              "      <td>0.217000</td>\n",
              "      <td>0.000000</td>\n",
              "      <td>0.1660</td>\n",
              "      <td>0.5910</td>\n",
              "      <td>147.988</td>\n",
              "      <td>audio_features</td>\n",
              "      <td>https://api.spotify.com/v1/tracks/4jCeguq9rMTl...</td>\n",
              "      <td>https://api.spotify.com/v1/audio-analysis/4jCe...</td>\n",
              "      <td>123298</td>\n",
              "      <td>4</td>\n",
              "      <td>Dark Trap</td>\n",
              "    </tr>\n",
              "    <tr>\n",
              "      <th>...</th>\n",
              "      <td>...</td>\n",
              "      <td>...</td>\n",
              "      <td>...</td>\n",
              "      <td>...</td>\n",
              "      <td>...</td>\n",
              "      <td>...</td>\n",
              "      <td>...</td>\n",
              "      <td>...</td>\n",
              "      <td>...</td>\n",
              "      <td>...</td>\n",
              "      <td>...</td>\n",
              "      <td>...</td>\n",
              "      <td>...</td>\n",
              "      <td>...</td>\n",
              "      <td>...</td>\n",
              "      <td>...</td>\n",
              "      <td>...</td>\n",
              "    </tr>\n",
              "    <tr>\n",
              "      <th>42300</th>\n",
              "      <td>0.528</td>\n",
              "      <td>0.693</td>\n",
              "      <td>4</td>\n",
              "      <td>-5.148</td>\n",
              "      <td>1</td>\n",
              "      <td>0.0304</td>\n",
              "      <td>0.031500</td>\n",
              "      <td>0.000345</td>\n",
              "      <td>0.1210</td>\n",
              "      <td>0.3940</td>\n",
              "      <td>150.013</td>\n",
              "      <td>audio_features</td>\n",
              "      <td>https://api.spotify.com/v1/tracks/46bXU7Sgj710...</td>\n",
              "      <td>https://api.spotify.com/v1/audio-analysis/46bX...</td>\n",
              "      <td>269208</td>\n",
              "      <td>4</td>\n",
              "      <td>hardstyle</td>\n",
              "    </tr>\n",
              "    <tr>\n",
              "      <th>42301</th>\n",
              "      <td>0.517</td>\n",
              "      <td>0.768</td>\n",
              "      <td>0</td>\n",
              "      <td>-7.922</td>\n",
              "      <td>0</td>\n",
              "      <td>0.0479</td>\n",
              "      <td>0.022500</td>\n",
              "      <td>0.000018</td>\n",
              "      <td>0.2050</td>\n",
              "      <td>0.3830</td>\n",
              "      <td>149.928</td>\n",
              "      <td>audio_features</td>\n",
              "      <td>https://api.spotify.com/v1/tracks/0he2ViGMUO3a...</td>\n",
              "      <td>https://api.spotify.com/v1/audio-analysis/0he2...</td>\n",
              "      <td>210112</td>\n",
              "      <td>4</td>\n",
              "      <td>hardstyle</td>\n",
              "    </tr>\n",
              "    <tr>\n",
              "      <th>42302</th>\n",
              "      <td>0.361</td>\n",
              "      <td>0.821</td>\n",
              "      <td>8</td>\n",
              "      <td>-3.102</td>\n",
              "      <td>1</td>\n",
              "      <td>0.0505</td>\n",
              "      <td>0.026000</td>\n",
              "      <td>0.000242</td>\n",
              "      <td>0.3850</td>\n",
              "      <td>0.1240</td>\n",
              "      <td>154.935</td>\n",
              "      <td>audio_features</td>\n",
              "      <td>https://api.spotify.com/v1/tracks/72DAt9Lbpy9E...</td>\n",
              "      <td>https://api.spotify.com/v1/audio-analysis/72DA...</td>\n",
              "      <td>234823</td>\n",
              "      <td>4</td>\n",
              "      <td>hardstyle</td>\n",
              "    </tr>\n",
              "    <tr>\n",
              "      <th>42303</th>\n",
              "      <td>0.477</td>\n",
              "      <td>0.921</td>\n",
              "      <td>6</td>\n",
              "      <td>-4.777</td>\n",
              "      <td>0</td>\n",
              "      <td>0.0392</td>\n",
              "      <td>0.000551</td>\n",
              "      <td>0.029600</td>\n",
              "      <td>0.0575</td>\n",
              "      <td>0.4880</td>\n",
              "      <td>150.042</td>\n",
              "      <td>audio_features</td>\n",
              "      <td>https://api.spotify.com/v1/tracks/6HXgExFVuE1c...</td>\n",
              "      <td>https://api.spotify.com/v1/audio-analysis/6HXg...</td>\n",
              "      <td>323200</td>\n",
              "      <td>4</td>\n",
              "      <td>hardstyle</td>\n",
              "    </tr>\n",
              "    <tr>\n",
              "      <th>42304</th>\n",
              "      <td>0.529</td>\n",
              "      <td>0.945</td>\n",
              "      <td>9</td>\n",
              "      <td>-5.862</td>\n",
              "      <td>1</td>\n",
              "      <td>0.0615</td>\n",
              "      <td>0.001890</td>\n",
              "      <td>0.000055</td>\n",
              "      <td>0.4140</td>\n",
              "      <td>0.1340</td>\n",
              "      <td>155.047</td>\n",
              "      <td>audio_features</td>\n",
              "      <td>https://api.spotify.com/v1/tracks/6MAAMZImxcvY...</td>\n",
              "      <td>https://api.spotify.com/v1/audio-analysis/6MAA...</td>\n",
              "      <td>162161</td>\n",
              "      <td>4</td>\n",
              "      <td>hardstyle</td>\n",
              "    </tr>\n",
              "  </tbody>\n",
              "</table>\n",
              "<p>42305 rows × 17 columns</p>\n",
              "</div>"
            ],
            "text/plain": [
              "       danceability  energy  key  ...  duration_ms  time_signature      genre\n",
              "0             0.831   0.814    2  ...       124539               4  Dark Trap\n",
              "1             0.719   0.493    8  ...       224427               4  Dark Trap\n",
              "2             0.850   0.893    5  ...        98821               4  Dark Trap\n",
              "3             0.476   0.781    0  ...       123661               3  Dark Trap\n",
              "4             0.798   0.624    2  ...       123298               4  Dark Trap\n",
              "...             ...     ...  ...  ...          ...             ...        ...\n",
              "42300         0.528   0.693    4  ...       269208               4  hardstyle\n",
              "42301         0.517   0.768    0  ...       210112               4  hardstyle\n",
              "42302         0.361   0.821    8  ...       234823               4  hardstyle\n",
              "42303         0.477   0.921    6  ...       323200               4  hardstyle\n",
              "42304         0.529   0.945    9  ...       162161               4  hardstyle\n",
              "\n",
              "[42305 rows x 17 columns]"
            ]
          },
          "metadata": {
            "tags": []
          },
          "execution_count": 155
        }
      ]
    },
    {
      "cell_type": "code",
      "metadata": {
        "colab": {
          "base_uri": "https://localhost:8080/",
          "height": 360
        },
        "id": "YyQAerKmcNVC",
        "outputId": "f3d562d6-8df6-4b3a-9f73-9cce9750f42d"
      },
      "source": [
        "data['genre'].value_counts().plot(kind='bar')"
      ],
      "execution_count": 156,
      "outputs": [
        {
          "output_type": "execute_result",
          "data": {
            "text/plain": [
              "<matplotlib.axes._subplots.AxesSubplot at 0x7fb3b2274550>"
            ]
          },
          "metadata": {
            "tags": []
          },
          "execution_count": 156
        },
        {
          "output_type": "display_data",
          "data": {
            "image/png": "[encoded data removed]",
            "text/plain": [
              "<Figure size 432x288 with 1 Axes>"
            ]
          },
          "metadata": {
            "tags": [],
            "needs_background": "light"
          }
        }
      ]
    },
    {
      "cell_type": "code",
      "metadata": {
        "colab": {
          "base_uri": "https://localhost:8080/",
          "height": 285
        },
        "id": "90fHH92ydKSA",
        "outputId": "bc8e39a6-6f3d-4f0e-a5d4-b7074c22fdb7"
      },
      "source": [
        "data['energy'].hist(bins=20)"
      ],
      "execution_count": 157,
      "outputs": [
        {
          "output_type": "execute_result",
          "data": {
            "text/plain": [
              "<matplotlib.axes._subplots.AxesSubplot at 0x7fb3b2194fd0>"
            ]
          },
          "metadata": {
            "tags": []
          },
          "execution_count": 157
        },
        {
          "output_type": "display_data",
          "data": {
            "image/png": "[encoded data removed]",
            "text/plain": [
              "<Figure size 432x288 with 1 Axes>"
            ]
          },
          "metadata": {
            "tags": [],
            "needs_background": "light"
          }
        }
      ]
    },
    {
      "cell_type": "markdown",
      "metadata": {
        "id": "SdLYzTbvMfN-"
      },
      "source": [
        "The energy column is skewed"
      ]
    },
    {
      "cell_type": "code",
      "metadata": {
        "colab": {
          "base_uri": "https://localhost:8080/",
          "height": 328
        },
        "id": "vtRALF8m1tic",
        "outputId": "165ced85-ddcf-445e-c09e-0e3cab00c6db"
      },
      "source": [
        "corr = data.corr()\n",
        "ax = sns.heatmap(\n",
        "    corr, \n",
        "    vmin=-1, vmax=1, center=0,\n",
        "    cmap=sns.diverging_palette(20, 220, n=200),\n",
        "    square=True\n",
        ")\n",
        "ax.set_xticklabels(\n",
        "    ax.get_xticklabels(),\n",
        "    rotation=45,\n",
        "    horizontalalignment='right'\n",
        ");"
      ],
      "execution_count": 158,
      "outputs": [
        {
          "output_type": "display_data",
          "data": {
            "image/png": "[encoded data removed]",
            "text/plain": [
              "<Figure size 432x288 with 2 Axes>"
            ]
          },
          "metadata": {
            "tags": [],
            "needs_background": "light"
          }
        }
      ]
    },
    {
      "cell_type": "markdown",
      "metadata": {
        "id": "9zlYn4sC2ZVi"
      },
      "source": [
        "We can see the negative correlation between energy and acousticness,loudness.Theres good correlation between instrumentalness and duration."
      ]
    },
    {
      "cell_type": "code",
      "metadata": {
        "colab": {
          "base_uri": "https://localhost:8080/",
          "height": 281
        },
        "id": "UF-9VflJ3y5A",
        "outputId": "c20d3ba5-ce40-4f52-afeb-63421c5ce148"
      },
      "source": [
        "plt.scatter(data.danceability,data.valence)"
      ],
      "execution_count": 159,
      "outputs": [
        {
          "output_type": "execute_result",
          "data": {
            "text/plain": [
              "<matplotlib.collections.PathCollection at 0x7fb3b1f93410>"
            ]
          },
          "metadata": {
            "tags": []
          },
          "execution_count": 159
        },
        {
          "output_type": "display_data",
          "data": {
            "image/png": "[encoded data removed]",
            "text/plain": [
              "<Figure size 432x288 with 1 Axes>"
            ]
          },
          "metadata": {
            "tags": [],
            "needs_background": "light"
          }
        }
      ]
    },
    {
      "cell_type": "code",
      "metadata": {
        "colab": {
          "base_uri": "https://localhost:8080/",
          "height": 281
        },
        "id": "_qxc7gKq-_yT",
        "outputId": "41e02f76-4495-4002-9ead-e1e9437c93a0"
      },
      "source": [
        "plt.scatter(data.energy,data.danceability)"
      ],
      "execution_count": 160,
      "outputs": [
        {
          "output_type": "execute_result",
          "data": {
            "text/plain": [
              "<matplotlib.collections.PathCollection at 0x7fb3b1f93390>"
            ]
          },
          "metadata": {
            "tags": []
          },
          "execution_count": 160
        },
        {
          "output_type": "display_data",
          "data": {
            "image/png": "[encoded data removed]",
            "text/plain": [
              "<Figure size 432x288 with 1 Axes>"
            ]
          },
          "metadata": {
            "tags": [],
            "needs_background": "light"
          }
        }
      ]
    },
    {
      "cell_type": "code",
      "metadata": {
        "colab": {
          "base_uri": "https://localhost:8080/",
          "height": 281
        },
        "id": "rFQWNblr_jQi",
        "outputId": "713253d4-a1d8-4525-84f0-72ff611f8e92"
      },
      "source": [
        "print(data.boxplot(column='loudness'))"
      ],
      "execution_count": 161,
      "outputs": [
        {
          "output_type": "stream",
          "text": [
            "AxesSubplot(0.125,0.125;0.775x0.755)\n"
          ],
          "name": "stdout"
        },
        {
          "output_type": "display_data",
          "data": {
            "image/png": "[encoded data removed]",
            "text/plain": [
              "<Figure size 432x288 with 1 Axes>"
            ]
          },
          "metadata": {
            "tags": [],
            "needs_background": "light"
          }
        }
      ]
    },
    {
      "cell_type": "code",
      "metadata": {
        "colab": {
          "base_uri": "https://localhost:8080/",
          "height": 371
        },
        "id": "pHhDqRWZAGE5",
        "outputId": "147b0a95-d102-4ee4-c2f3-49bba0829dc0"
      },
      "source": [
        "data.boxplot(column='mode',by='key')"
      ],
      "execution_count": 162,
      "outputs": [
        {
          "output_type": "stream",
          "text": [
            "/usr/local/lib/python3.7/dist-packages/numpy/core/_asarray.py:83: VisibleDeprecationWarning: Creating an ndarray from ragged nested sequences (which is a list-or-tuple of lists-or-tuples-or ndarrays with different lengths or shapes) is deprecated. If you meant to do this, you must specify 'dtype=object' when creating the ndarray\n",
            "  return array(a, dtype, copy=False, order=order)\n"
          ],
          "name": "stderr"
        },
        {
          "output_type": "execute_result",
          "data": {
            "text/plain": [
              "<matplotlib.axes._subplots.AxesSubplot at 0x7fb3b32e2090>"
            ]
          },
          "metadata": {
            "tags": []
          },
          "execution_count": 162
        },
        {
          "output_type": "display_data",
          "data": {
            "image/png": "[encoded data removed]",
            "text/plain": [
              "<Figure size 432x288 with 1 Axes>"
            ]
          },
          "metadata": {
            "tags": [],
            "needs_background": "light"
          }
        }
      ]
    },
    {
      "cell_type": "code",
      "metadata": {
        "colab": {
          "base_uri": "https://localhost:8080/"
        },
        "id": "NRHpKzz5AkVm",
        "outputId": "c5477803-6316-4ad4-ec3e-7edd746c7e0b"
      },
      "source": [
        "data.columns"
      ],
      "execution_count": 163,
      "outputs": [
        {
          "output_type": "execute_result",
          "data": {
            "text/plain": [
              "Index(['danceability', 'energy', 'key', 'loudness', 'mode', 'speechiness',\n",
              "       'acousticness', 'instrumentalness', 'liveness', 'valence', 'tempo',\n",
              "       'type', 'track_href', 'analysis_url', 'duration_ms', 'time_signature',\n",
              "       'genre', 'title'],\n",
              "      dtype='object')"
            ]
          },
          "metadata": {
            "tags": []
          },
          "execution_count": 163
        }
      ]
    },
    {
      "cell_type": "code",
      "metadata": {
        "colab": {
          "base_uri": "https://localhost:8080/"
        },
        "id": "qnpb0oslBqrs",
        "outputId": "41f3b877-a8d3-4703-dc0b-23e41b3f86a6"
      },
      "source": [
        "data.time_signature.unique()"
      ],
      "execution_count": 164,
      "outputs": [
        {
          "output_type": "execute_result",
          "data": {
            "text/plain": [
              "array([4, 3, 5, 1])"
            ]
          },
          "metadata": {
            "tags": []
          },
          "execution_count": 164
        }
      ]
    },
    {
      "cell_type": "code",
      "metadata": {
        "colab": {
          "base_uri": "https://localhost:8080/"
        },
        "id": "5prZEnNhB5AC",
        "outputId": "cbba055d-d5e9-4254-e8f2-b6db5a3dd81c"
      },
      "source": [
        "data['genre'].value_counts()"
      ],
      "execution_count": 165,
      "outputs": [
        {
          "output_type": "execute_result",
          "data": {
            "text/plain": [
              "Underground Rap    5875\n",
              "Dark Trap          4578\n",
              "Hiphop             3028\n",
              "trance             2999\n",
              "trap               2987\n",
              "techhouse          2975\n",
              "dnb                2966\n",
              "psytrance          2961\n",
              "techno             2956\n",
              "hardstyle          2936\n",
              "RnB                2099\n",
              "Trap Metal         1956\n",
              "Rap                1848\n",
              "Emo                1680\n",
              "Pop                 461\n",
              "Name: genre, dtype: int64"
            ]
          },
          "metadata": {
            "tags": []
          },
          "execution_count": 165
        }
      ]
    },
    {
      "cell_type": "code",
      "metadata": {
        "colab": {
          "base_uri": "https://localhost:8080/",
          "height": 166
        },
        "id": "YpXW8g3CDHrw",
        "outputId": "8af3936c-7d39-40f2-d16e-73cd933569f5"
      },
      "source": [
        "data[data.liveness==data['liveness'].max()]"
      ],
      "execution_count": 166,
      "outputs": [
        {
          "output_type": "execute_result",
          "data": {
            "text/html": [
              "<div>\n",
              "<style scoped>\n",
              "    .dataframe tbody tr th:only-of-type {\n",
              "        vertical-align: middle;\n",
              "    }\n",
              "\n",
              "    .dataframe tbody tr th {\n",
              "        vertical-align: top;\n",
              "    }\n",
              "\n",
              "    .dataframe thead th {\n",
              "        text-align: right;\n",
              "    }\n",
              "</style>\n",
              "<table border=\"1\" class=\"dataframe\">\n",
              "  <thead>\n",
              "    <tr style=\"text-align: right;\">\n",
              "      <th></th>\n",
              "      <th>danceability</th>\n",
              "      <th>energy</th>\n",
              "      <th>key</th>\n",
              "      <th>loudness</th>\n",
              "      <th>mode</th>\n",
              "      <th>speechiness</th>\n",
              "      <th>acousticness</th>\n",
              "      <th>instrumentalness</th>\n",
              "      <th>liveness</th>\n",
              "      <th>valence</th>\n",
              "      <th>tempo</th>\n",
              "      <th>type</th>\n",
              "      <th>track_href</th>\n",
              "      <th>analysis_url</th>\n",
              "      <th>duration_ms</th>\n",
              "      <th>time_signature</th>\n",
              "      <th>genre</th>\n",
              "      <th>title</th>\n",
              "    </tr>\n",
              "  </thead>\n",
              "  <tbody>\n",
              "    <tr>\n",
              "      <th>31035</th>\n",
              "      <td>0.655</td>\n",
              "      <td>0.925</td>\n",
              "      <td>5</td>\n",
              "      <td>-7.227</td>\n",
              "      <td>1</td>\n",
              "      <td>0.0511</td>\n",
              "      <td>0.00223</td>\n",
              "      <td>0.821</td>\n",
              "      <td>0.988</td>\n",
              "      <td>0.0679</td>\n",
              "      <td>139.982</td>\n",
              "      <td>audio_features</td>\n",
              "      <td>https://api.spotify.com/v1/tracks/3INQmHnW8hGa...</td>\n",
              "      <td>https://api.spotify.com/v1/audio-analysis/3INQ...</td>\n",
              "      <td>476578</td>\n",
              "      <td>4</td>\n",
              "      <td>psytrance</td>\n",
              "      <td>Psytrance: Full on New Releases 2020</td>\n",
              "    </tr>\n",
              "  </tbody>\n",
              "</table>\n",
              "</div>"
            ],
            "text/plain": [
              "       danceability  energy  ...      genre                                 title\n",
              "31035         0.655   0.925  ...  psytrance  Psytrance: Full on New Releases 2020\n",
              "\n",
              "[1 rows x 18 columns]"
            ]
          },
          "metadata": {
            "tags": []
          },
          "execution_count": 166
        }
      ]
    },
    {
      "cell_type": "code",
      "metadata": {
        "colab": {
          "base_uri": "https://localhost:8080/"
        },
        "id": "wbJf-3FcDdQ6",
        "outputId": "43d51b43-8ff5-422c-c3e3-ff3959d95c73"
      },
      "source": [
        "data.loudness.corr(data.liveness)"
      ],
      "execution_count": 167,
      "outputs": [
        {
          "output_type": "execute_result",
          "data": {
            "text/plain": [
              "0.16710371879581964"
            ]
          },
          "metadata": {
            "tags": []
          },
          "execution_count": 167
        }
      ]
    },
    {
      "cell_type": "code",
      "metadata": {
        "colab": {
          "base_uri": "https://localhost:8080/",
          "height": 149
        },
        "id": "DaZEKtjxD1Y_",
        "outputId": "437dfced-bea4-423a-d13a-a23831bc93b5"
      },
      "source": [
        "data[data.duration_ms==data.duration_ms.max()]"
      ],
      "execution_count": 168,
      "outputs": [
        {
          "output_type": "execute_result",
          "data": {
            "text/html": [
              "<div>\n",
              "<style scoped>\n",
              "    .dataframe tbody tr th:only-of-type {\n",
              "        vertical-align: middle;\n",
              "    }\n",
              "\n",
              "    .dataframe tbody tr th {\n",
              "        vertical-align: top;\n",
              "    }\n",
              "\n",
              "    .dataframe thead th {\n",
              "        text-align: right;\n",
              "    }\n",
              "</style>\n",
              "<table border=\"1\" class=\"dataframe\">\n",
              "  <thead>\n",
              "    <tr style=\"text-align: right;\">\n",
              "      <th></th>\n",
              "      <th>danceability</th>\n",
              "      <th>energy</th>\n",
              "      <th>key</th>\n",
              "      <th>loudness</th>\n",
              "      <th>mode</th>\n",
              "      <th>speechiness</th>\n",
              "      <th>acousticness</th>\n",
              "      <th>instrumentalness</th>\n",
              "      <th>liveness</th>\n",
              "      <th>valence</th>\n",
              "      <th>tempo</th>\n",
              "      <th>type</th>\n",
              "      <th>track_href</th>\n",
              "      <th>analysis_url</th>\n",
              "      <th>duration_ms</th>\n",
              "      <th>time_signature</th>\n",
              "      <th>genre</th>\n",
              "      <th>title</th>\n",
              "    </tr>\n",
              "  </thead>\n",
              "  <tbody>\n",
              "    <tr>\n",
              "      <th>31428</th>\n",
              "      <td>0.723</td>\n",
              "      <td>0.635</td>\n",
              "      <td>7</td>\n",
              "      <td>-9.48</td>\n",
              "      <td>1</td>\n",
              "      <td>0.0654</td>\n",
              "      <td>0.0164</td>\n",
              "      <td>0.823</td>\n",
              "      <td>0.205</td>\n",
              "      <td>0.13</td>\n",
              "      <td>129.008</td>\n",
              "      <td>audio_features</td>\n",
              "      <td>https://api.spotify.com/v1/tracks/16Sff1KTYV40...</td>\n",
              "      <td>https://api.spotify.com/v1/audio-analysis/16Sf...</td>\n",
              "      <td>913052</td>\n",
              "      <td>4</td>\n",
              "      <td>psytrance</td>\n",
              "      <td>PSYTRANCE BANGERS best new 2020</td>\n",
              "    </tr>\n",
              "  </tbody>\n",
              "</table>\n",
              "</div>"
            ],
            "text/plain": [
              "       danceability  energy  ...      genre                            title\n",
              "31428         0.723   0.635  ...  psytrance  PSYTRANCE BANGERS best new 2020\n",
              "\n",
              "[1 rows x 18 columns]"
            ]
          },
          "metadata": {
            "tags": []
          },
          "execution_count": 168
        }
      ]
    },
    {
      "cell_type": "markdown",
      "metadata": {
        "id": "gyS8Q31fETWq"
      },
      "source": [
        "Lets find the happiest song"
      ]
    },
    {
      "cell_type": "code",
      "metadata": {
        "colab": {
          "base_uri": "https://localhost:8080/",
          "height": 166
        },
        "id": "_KqSN-yrEX5n",
        "outputId": "88f67c33-1154-4ee0-9171-36a889853ce5"
      },
      "source": [
        "data[data.valence==data.valence.max()]"
      ],
      "execution_count": 169,
      "outputs": [
        {
          "output_type": "execute_result",
          "data": {
            "text/html": [
              "<div>\n",
              "<style scoped>\n",
              "    .dataframe tbody tr th:only-of-type {\n",
              "        vertical-align: middle;\n",
              "    }\n",
              "\n",
              "    .dataframe tbody tr th {\n",
              "        vertical-align: top;\n",
              "    }\n",
              "\n",
              "    .dataframe thead th {\n",
              "        text-align: right;\n",
              "    }\n",
              "</style>\n",
              "<table border=\"1\" class=\"dataframe\">\n",
              "  <thead>\n",
              "    <tr style=\"text-align: right;\">\n",
              "      <th></th>\n",
              "      <th>danceability</th>\n",
              "      <th>energy</th>\n",
              "      <th>key</th>\n",
              "      <th>loudness</th>\n",
              "      <th>mode</th>\n",
              "      <th>speechiness</th>\n",
              "      <th>acousticness</th>\n",
              "      <th>instrumentalness</th>\n",
              "      <th>liveness</th>\n",
              "      <th>valence</th>\n",
              "      <th>tempo</th>\n",
              "      <th>type</th>\n",
              "      <th>track_href</th>\n",
              "      <th>analysis_url</th>\n",
              "      <th>duration_ms</th>\n",
              "      <th>time_signature</th>\n",
              "      <th>genre</th>\n",
              "      <th>title</th>\n",
              "    </tr>\n",
              "  </thead>\n",
              "  <tbody>\n",
              "    <tr>\n",
              "      <th>24134</th>\n",
              "      <td>0.806</td>\n",
              "      <td>0.988</td>\n",
              "      <td>3</td>\n",
              "      <td>-9.747</td>\n",
              "      <td>0</td>\n",
              "      <td>0.0749</td>\n",
              "      <td>0.000621</td>\n",
              "      <td>0.901</td>\n",
              "      <td>0.543</td>\n",
              "      <td>0.988</td>\n",
              "      <td>123.017</td>\n",
              "      <td>audio_features</td>\n",
              "      <td>https://api.spotify.com/v1/tracks/7Ef0dUXrhjmf...</td>\n",
              "      <td>https://api.spotify.com/v1/audio-analysis/7Ef0...</td>\n",
              "      <td>321951</td>\n",
              "      <td>4</td>\n",
              "      <td>techhouse</td>\n",
              "      <td>Beatoirt Best New Tech House</td>\n",
              "    </tr>\n",
              "  </tbody>\n",
              "</table>\n",
              "</div>"
            ],
            "text/plain": [
              "       danceability  energy  ...      genre                         title\n",
              "24134         0.806   0.988  ...  techhouse  Beatoirt Best New Tech House\n",
              "\n",
              "[1 rows x 18 columns]"
            ]
          },
          "metadata": {
            "tags": []
          },
          "execution_count": 169
        }
      ]
    },
    {
      "cell_type": "code",
      "metadata": {
        "id": "X7Sr5b7yEpb6"
      },
      "source": [
        "data.drop(['title','track_href','analysis_url'],axis=1,inplace=True)"
      ],
      "execution_count": 170,
      "outputs": []
    },
    {
      "cell_type": "code",
      "metadata": {
        "colab": {
          "base_uri": "https://localhost:8080/"
        },
        "id": "Ni5stKuGLtpk",
        "outputId": "42ba2fdc-097b-4929-8104-b947489eadd1"
      },
      "source": [
        "data.columns"
      ],
      "execution_count": 171,
      "outputs": [
        {
          "output_type": "execute_result",
          "data": {
            "text/plain": [
              "Index(['danceability', 'energy', 'key', 'loudness', 'mode', 'speechiness',\n",
              "       'acousticness', 'instrumentalness', 'liveness', 'valence', 'tempo',\n",
              "       'type', 'duration_ms', 'time_signature', 'genre'],\n",
              "      dtype='object')"
            ]
          },
          "metadata": {
            "tags": []
          },
          "execution_count": 171
        }
      ]
    },
    {
      "cell_type": "code",
      "metadata": {
        "colab": {
          "base_uri": "https://localhost:8080/"
        },
        "id": "u67Lpq-6Mwtl",
        "outputId": "3830c54b-7573-4da1-b3e2-3b45bce76369"
      },
      "source": [
        "data.dtypes"
      ],
      "execution_count": 172,
      "outputs": [
        {
          "output_type": "execute_result",
          "data": {
            "text/plain": [
              "danceability        float64\n",
              "energy              float64\n",
              "key                   int64\n",
              "loudness            float64\n",
              "mode                  int64\n",
              "speechiness         float64\n",
              "acousticness        float64\n",
              "instrumentalness    float64\n",
              "liveness            float64\n",
              "valence             float64\n",
              "tempo               float64\n",
              "type                 object\n",
              "duration_ms           int64\n",
              "time_signature        int64\n",
              "genre                object\n",
              "dtype: object"
            ]
          },
          "metadata": {
            "tags": []
          },
          "execution_count": 172
        }
      ]
    },
    {
      "cell_type": "code",
      "metadata": {
        "colab": {
          "base_uri": "https://localhost:8080/"
        },
        "id": "c83YUCHkM2dy",
        "outputId": "2173b81f-7d63-48af-b574-b4e782d04992"
      },
      "source": [
        "data.type.unique"
      ],
      "execution_count": 173,
      "outputs": [
        {
          "output_type": "execute_result",
          "data": {
            "text/plain": [
              "<bound method Series.unique of 0        audio_features\n",
              "1        audio_features\n",
              "2        audio_features\n",
              "3        audio_features\n",
              "4        audio_features\n",
              "              ...      \n",
              "42300    audio_features\n",
              "42301    audio_features\n",
              "42302    audio_features\n",
              "42303    audio_features\n",
              "42304    audio_features\n",
              "Name: type, Length: 42305, dtype: object>"
            ]
          },
          "metadata": {
            "tags": []
          },
          "execution_count": 173
        }
      ]
    },
    {
      "cell_type": "code",
      "metadata": {
        "id": "W_DNmjoNM766"
      },
      "source": [
        "data.drop('type',axis=1,inplace=True)"
      ],
      "execution_count": 174,
      "outputs": []
    },
    {
      "cell_type": "code",
      "metadata": {
        "id": "X4-NE9U2NETY"
      },
      "source": [
        "from sklearn import  preprocessing\n",
        "data=data.apply(preprocessing.LabelEncoder().fit_transform)"
      ],
      "execution_count": 183,
      "outputs": []
    },
    {
      "cell_type": "code",
      "metadata": {
        "colab": {
          "base_uri": "https://localhost:8080/"
        },
        "id": "Y5dKl9MSOEz4",
        "outputId": "469ae9fb-2732-445a-d5c4-65cae383ecad"
      },
      "source": [
        "from sklearn.model_selection import train_test_split\n",
        "X=data.loc[ : , data.columns != 'genere']\n",
        "y=data['genre']\n",
        "X_train, X_test, y_train, y_test = train_test_split(X, y, test_size=0.33)\n",
        "# Dimension of Train and Test set \n",
        "print(\"Dimension of Train set\",X_train.shape)\n",
        "print(\"Dimension of Test set\",X_test.shape,\"\\n\")\n",
        "y_test.unique"
      ],
      "execution_count": 184,
      "outputs": [
        {
          "output_type": "stream",
          "text": [
            "Dimension of Train set (28344, 14)\n",
            "Dimension of Test set (13961, 14) \n",
            "\n"
          ],
          "name": "stdout"
        },
        {
          "output_type": "execute_result",
          "data": {
            "text/plain": [
              "<bound method Series.unique of 31635    10\n",
              "41316     9\n",
              "20072     2\n",
              "8472      7\n",
              "1693      0\n",
              "         ..\n",
              "9686      7\n",
              "40641     9\n",
              "28789    13\n",
              "9182      7\n",
              "28801    13\n",
              "Name: genre, Length: 13961, dtype: int64>"
            ]
          },
          "metadata": {
            "tags": []
          },
          "execution_count": 184
        }
      ]
    },
    {
      "cell_type": "code",
      "metadata": {
        "colab": {
          "base_uri": "https://localhost:8080/"
        },
        "id": "SG9Z9UIfVmDO",
        "outputId": "d895578b-a05f-4bb8-e11e-914c923b2751"
      },
      "source": [
        "from sklearn.ensemble import RandomForestClassifier\n",
        "from sklearn.metrics import accuracy_score\n",
        "model = RandomForestClassifier(random_state=1)\n",
        "model.fit(X_train, y_train)\n",
        "yhat = model.predict(X_test)\n",
        "# evaluate predictions\n",
        "acc = accuracy_score(y_test, yhat)\n",
        "print('Accuracy: %.3f' % acc)"
      ],
      "execution_count": 185,
      "outputs": [
        {
          "output_type": "stream",
          "text": [
            "Accuracy: 0.991\n"
          ],
          "name": "stdout"
        }
      ]
    }
  ]
}